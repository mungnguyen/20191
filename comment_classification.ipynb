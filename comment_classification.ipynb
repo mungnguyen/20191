{
  "nbformat": 4,
  "nbformat_minor": 0,
  "metadata": {
    "colab": {
      "name": "comment-classification.ipynb",
      "provenance": [],
      "collapsed_sections": [],
      "toc_visible": true,
      "mount_file_id": "1qr7SU9wzuc6jn_E2J4xE1C3chFOoZ5wn",
      "authorship_tag": "ABX9TyOPwdLi/zKjomCAJFcqMyK/",
      "include_colab_link": true
    },
    "kernelspec": {
      "name": "python3",
      "display_name": "Python 3"
    },
    "accelerator": "GPU"
  },
  "cells": [
    {
      "cell_type": "markdown",
      "metadata": {
        "id": "view-in-github",
        "colab_type": "text"
      },
      "source": [
        "<a href=\"https://colab.research.google.com/github/mungnguyen/20191/blob/master/comment_classification.ipynb\" target=\"_parent\"><img src=\"https://colab.research.google.com/assets/colab-badge.svg\" alt=\"Open In Colab\"/></a>"
      ]
    },
    {
      "cell_type": "code",
      "metadata": {
        "id": "AJCKVl9OAvMX",
        "colab_type": "code",
        "outputId": "1e838509-d48d-415a-f44b-d9d71b20568b",
        "colab": {
          "base_uri": "https://localhost:8080/",
          "height": 34
        }
      },
      "source": [
        "cd /content/drive/My Drive/Python/comment-classification/src"
      ],
      "execution_count": 6,
      "outputs": [
        {
          "output_type": "stream",
          "text": [
            "/content/drive/My Drive/Python/comment-classification/src\n"
          ],
          "name": "stdout"
        }
      ]
    },
    {
      "cell_type": "markdown",
      "metadata": {
        "id": "VIZIu2UrXWfj",
        "colab_type": "text"
      },
      "source": [
        ""
      ]
    },
    {
      "cell_type": "code",
      "metadata": {
        "id": "tR1vCEoCCAi7",
        "colab_type": "code",
        "outputId": "4b6f1815-15c7-45ea-e2e3-ab1597cd921a",
        "colab": {
          "base_uri": "https://localhost:8080/",
          "height": 370
        }
      },
      "source": [
        "import os\n",
        "from pathlib import Path\n",
        "from sklearn.datasets import load_files\n",
        "\n",
        "print(\"Begin Load file\\n\")\n",
        "# Load data\n",
        "# dirPath = Path(os.path.dirname(__file__))\n",
        "# print(dirPath.name)\n",
        "\n",
        "trainDir =  '/content/drive/My Drive/Python/comment-classification/data/aclImdb/train'\n",
        "testDir = '/content/drive/My Drive/Python/comment-classification/data/aclImdb/test'\n",
        "\n",
        "trainset = load_files(trainDir, \"r\", categories=[\"pos\", \"neg\"], encoding=\"utf-8\")"
      ],
      "execution_count": 3,
      "outputs": [
        {
          "output_type": "stream",
          "text": [
            "Begin Load file\n",
            "\n"
          ],
          "name": "stdout"
        },
        {
          "output_type": "error",
          "ename": "OSError",
          "evalue": "ignored",
          "traceback": [
            "\u001b[0;31m---------------------------------------------------------------------------\u001b[0m",
            "\u001b[0;31mOSError\u001b[0m                                   Traceback (most recent call last)",
            "\u001b[0;32m<ipython-input-3-e71d5aa9bdc6>\u001b[0m in \u001b[0;36m<module>\u001b[0;34m()\u001b[0m\n\u001b[1;32m     11\u001b[0m \u001b[0mtestDir\u001b[0m \u001b[0;34m=\u001b[0m \u001b[0;34m'/content/drive/My Drive/Python/comment-classification/data/aclImdb/test'\u001b[0m\u001b[0;34m\u001b[0m\u001b[0;34m\u001b[0m\u001b[0m\n\u001b[1;32m     12\u001b[0m \u001b[0;34m\u001b[0m\u001b[0m\n\u001b[0;32m---> 13\u001b[0;31m \u001b[0mtrainset\u001b[0m \u001b[0;34m=\u001b[0m \u001b[0mload_files\u001b[0m\u001b[0;34m(\u001b[0m\u001b[0mtrainDir\u001b[0m\u001b[0;34m,\u001b[0m \u001b[0;34m\"r\"\u001b[0m\u001b[0;34m,\u001b[0m \u001b[0mcategories\u001b[0m\u001b[0;34m=\u001b[0m\u001b[0;34m[\u001b[0m\u001b[0;34m\"pos\"\u001b[0m\u001b[0;34m,\u001b[0m \u001b[0;34m\"neg\"\u001b[0m\u001b[0;34m]\u001b[0m\u001b[0;34m,\u001b[0m \u001b[0mencoding\u001b[0m\u001b[0;34m=\u001b[0m\u001b[0;34m\"utf-8\"\u001b[0m\u001b[0;34m)\u001b[0m\u001b[0;34m\u001b[0m\u001b[0;34m\u001b[0m\u001b[0m\n\u001b[0m",
            "\u001b[0;32m/usr/local/lib/python3.6/dist-packages/sklearn/datasets/_base.py\u001b[0m in \u001b[0;36mload_files\u001b[0;34m(container_path, description, categories, load_content, shuffle, encoding, decode_error, random_state)\u001b[0m\n\u001b[1;32m    171\u001b[0m         \u001b[0mfolder_path\u001b[0m \u001b[0;34m=\u001b[0m \u001b[0mjoin\u001b[0m\u001b[0;34m(\u001b[0m\u001b[0mcontainer_path\u001b[0m\u001b[0;34m,\u001b[0m \u001b[0mfolder\u001b[0m\u001b[0;34m)\u001b[0m\u001b[0;34m\u001b[0m\u001b[0;34m\u001b[0m\u001b[0m\n\u001b[1;32m    172\u001b[0m         documents = [join(folder_path, d)\n\u001b[0;32m--> 173\u001b[0;31m                      for d in sorted(listdir(folder_path))]\n\u001b[0m\u001b[1;32m    174\u001b[0m         \u001b[0mtarget\u001b[0m\u001b[0;34m.\u001b[0m\u001b[0mextend\u001b[0m\u001b[0;34m(\u001b[0m\u001b[0mlen\u001b[0m\u001b[0;34m(\u001b[0m\u001b[0mdocuments\u001b[0m\u001b[0;34m)\u001b[0m \u001b[0;34m*\u001b[0m \u001b[0;34m[\u001b[0m\u001b[0mlabel\u001b[0m\u001b[0;34m]\u001b[0m\u001b[0;34m)\u001b[0m\u001b[0;34m\u001b[0m\u001b[0;34m\u001b[0m\u001b[0m\n\u001b[1;32m    175\u001b[0m         \u001b[0mfilenames\u001b[0m\u001b[0;34m.\u001b[0m\u001b[0mextend\u001b[0m\u001b[0;34m(\u001b[0m\u001b[0mdocuments\u001b[0m\u001b[0;34m)\u001b[0m\u001b[0;34m\u001b[0m\u001b[0;34m\u001b[0m\u001b[0m\n",
            "\u001b[0;31mOSError\u001b[0m: [Errno 5] Input/output error: '/content/drive/My Drive/Python/comment-classification/data/aclImdb/train/neg'"
          ]
        }
      ]
    },
    {
      "cell_type": "code",
      "metadata": {
        "id": "2Zx-tjgICpK9",
        "colab_type": "code",
        "outputId": "b1caf7a0-8028-4faa-d215-833ec5c282bb",
        "colab": {
          "base_uri": "https://localhost:8080/",
          "height": 370
        }
      },
      "source": [
        "testset = load_files(testDir, \"r\", categories=[\"pos\", \"neg\"], encoding=\"utf-8\")\n",
        "\n",
        "print(\"End Load file\\n\")\n",
        "\n",
        "X_train, y_train = trainset.data, trainset.target\n",
        "X_test, y_test = testset.data, testset.target\n"
      ],
      "execution_count": 4,
      "outputs": [
        {
          "output_type": "error",
          "ename": "OSError",
          "evalue": "ignored",
          "traceback": [
            "\u001b[0;31m---------------------------------------------------------------------------\u001b[0m",
            "\u001b[0;31mOSError\u001b[0m                                   Traceback (most recent call last)",
            "\u001b[0;32m<ipython-input-4-408933a2a552>\u001b[0m in \u001b[0;36m<module>\u001b[0;34m()\u001b[0m\n\u001b[0;32m----> 1\u001b[0;31m \u001b[0mtestset\u001b[0m \u001b[0;34m=\u001b[0m \u001b[0mload_files\u001b[0m\u001b[0;34m(\u001b[0m\u001b[0mtestDir\u001b[0m\u001b[0;34m,\u001b[0m \u001b[0;34m\"r\"\u001b[0m\u001b[0;34m,\u001b[0m \u001b[0mcategories\u001b[0m\u001b[0;34m=\u001b[0m\u001b[0;34m[\u001b[0m\u001b[0;34m\"pos\"\u001b[0m\u001b[0;34m,\u001b[0m \u001b[0;34m\"neg\"\u001b[0m\u001b[0;34m]\u001b[0m\u001b[0;34m,\u001b[0m \u001b[0mencoding\u001b[0m\u001b[0;34m=\u001b[0m\u001b[0;34m\"utf-8\"\u001b[0m\u001b[0;34m)\u001b[0m\u001b[0;34m\u001b[0m\u001b[0;34m\u001b[0m\u001b[0m\n\u001b[0m\u001b[1;32m      2\u001b[0m \u001b[0;34m\u001b[0m\u001b[0m\n\u001b[1;32m      3\u001b[0m \u001b[0mprint\u001b[0m\u001b[0;34m(\u001b[0m\u001b[0;34m\"End Load file\\n\"\u001b[0m\u001b[0;34m)\u001b[0m\u001b[0;34m\u001b[0m\u001b[0;34m\u001b[0m\u001b[0m\n\u001b[1;32m      4\u001b[0m \u001b[0;34m\u001b[0m\u001b[0m\n\u001b[1;32m      5\u001b[0m \u001b[0mX_train\u001b[0m\u001b[0;34m,\u001b[0m \u001b[0my_train\u001b[0m \u001b[0;34m=\u001b[0m \u001b[0mtrainset\u001b[0m\u001b[0;34m.\u001b[0m\u001b[0mdata\u001b[0m\u001b[0;34m,\u001b[0m \u001b[0mtrainset\u001b[0m\u001b[0;34m.\u001b[0m\u001b[0mtarget\u001b[0m\u001b[0;34m\u001b[0m\u001b[0;34m\u001b[0m\u001b[0m\n",
            "\u001b[0;32m/usr/local/lib/python3.6/dist-packages/sklearn/datasets/_base.py\u001b[0m in \u001b[0;36mload_files\u001b[0;34m(container_path, description, categories, load_content, shuffle, encoding, decode_error, random_state)\u001b[0m\n\u001b[1;32m    171\u001b[0m         \u001b[0mfolder_path\u001b[0m \u001b[0;34m=\u001b[0m \u001b[0mjoin\u001b[0m\u001b[0;34m(\u001b[0m\u001b[0mcontainer_path\u001b[0m\u001b[0;34m,\u001b[0m \u001b[0mfolder\u001b[0m\u001b[0;34m)\u001b[0m\u001b[0;34m\u001b[0m\u001b[0;34m\u001b[0m\u001b[0m\n\u001b[1;32m    172\u001b[0m         documents = [join(folder_path, d)\n\u001b[0;32m--> 173\u001b[0;31m                      for d in sorted(listdir(folder_path))]\n\u001b[0m\u001b[1;32m    174\u001b[0m         \u001b[0mtarget\u001b[0m\u001b[0;34m.\u001b[0m\u001b[0mextend\u001b[0m\u001b[0;34m(\u001b[0m\u001b[0mlen\u001b[0m\u001b[0;34m(\u001b[0m\u001b[0mdocuments\u001b[0m\u001b[0;34m)\u001b[0m \u001b[0;34m*\u001b[0m \u001b[0;34m[\u001b[0m\u001b[0mlabel\u001b[0m\u001b[0;34m]\u001b[0m\u001b[0;34m)\u001b[0m\u001b[0;34m\u001b[0m\u001b[0;34m\u001b[0m\u001b[0m\n\u001b[1;32m    175\u001b[0m         \u001b[0mfilenames\u001b[0m\u001b[0;34m.\u001b[0m\u001b[0mextend\u001b[0m\u001b[0;34m(\u001b[0m\u001b[0mdocuments\u001b[0m\u001b[0;34m)\u001b[0m\u001b[0;34m\u001b[0m\u001b[0;34m\u001b[0m\u001b[0m\n",
            "\u001b[0;31mOSError\u001b[0m: [Errno 5] Input/output error: '/content/drive/My Drive/Python/comment-classification/data/aclImdb/test/neg'"
          ]
        }
      ]
    },
    {
      "cell_type": "code",
      "metadata": {
        "id": "w1yJuz-ACrDg",
        "colab_type": "code",
        "colab": {
          "base_uri": "https://localhost:8080/",
          "height": 153
        },
        "outputId": "235a40df-49eb-45fa-bf63-a8a2213f95da"
      },
      "source": [
        "# Clean and pre-process\n",
        "from preprocess import cleanAndPreprocess\n",
        "\n",
        "train_docs = []\n",
        "test_docs = []\n",
        "\n",
        "print(\"Begin pre-processing\\n\")\n",
        "\n",
        "# X1 = X[:10]\n",
        "for x in X_train:\n",
        "    train_docs.append(\" \".join(cleanAndPreprocess(x)))"
      ],
      "execution_count": 11,
      "outputs": [
        {
          "output_type": "stream",
          "text": [
            "[nltk_data] Downloading package punkt to /root/nltk_data...\n",
            "[nltk_data]   Unzipping tokenizers/punkt.zip.\n",
            "[nltk_data] Downloading package stopwords to /root/nltk_data...\n",
            "[nltk_data]   Unzipping corpora/stopwords.zip.\n",
            "[nltk_data] Downloading package wordnet to /root/nltk_data...\n",
            "[nltk_data]   Unzipping corpora/wordnet.zip.\n",
            "Begin pre-processing\n",
            "\n"
          ],
          "name": "stdout"
        }
      ]
    },
    {
      "cell_type": "code",
      "metadata": {
        "id": "fxe7YqxhhcX6",
        "colab_type": "code",
        "outputId": "7a5f2c0a-4a79-4ace-a231-2938d1984e98",
        "colab": {
          "base_uri": "https://localhost:8080/",
          "height": 34
        }
      },
      "source": [
        "with open('train-docs-after-preprocessing.txt', 'w') as f_train:\n",
        "    for item in train_docs:\n",
        "        f_train.write(\"%s\\n\" % item)\n",
        "print(\"print to file successly\")"
      ],
      "execution_count": 12,
      "outputs": [
        {
          "output_type": "stream",
          "text": [
            "print to file successly\n"
          ],
          "name": "stdout"
        }
      ]
    },
    {
      "cell_type": "code",
      "metadata": {
        "id": "dkjACvaZePnY",
        "colab_type": "code",
        "colab": {
          "base_uri": "https://localhost:8080/",
          "height": 34
        },
        "outputId": "21d9bd6c-8cba-4344-ca6b-fd161b4bf776"
      },
      "source": [
        "with open('train-label-after-preprocessing.txt', 'w') as f_train_label:\n",
        "    for item in y_train:\n",
        "        f_train_label.write(\"%s\\n\" % item)\n",
        "print(\"print to file successly\")"
      ],
      "execution_count": 13,
      "outputs": [
        {
          "output_type": "stream",
          "text": [
            "print to file successly\n"
          ],
          "name": "stdout"
        }
      ]
    },
    {
      "cell_type": "code",
      "metadata": {
        "id": "W8MFSOA5CvKS",
        "colab_type": "code",
        "outputId": "ffb5b315-46fb-46b9-c12e-bc30173d80ed",
        "colab": {
          "base_uri": "https://localhost:8080/",
          "height": 51
        }
      },
      "source": [
        "# X1 = X[:10]\n",
        "for x in X_test:\n",
        "    test_docs.append(\" \".join(cleanAndPreprocess(x)))\n",
        "\n",
        "print(\"End pre-processing\\n\")\n"
      ],
      "execution_count": 14,
      "outputs": [
        {
          "output_type": "stream",
          "text": [
            "End pre-processing\n",
            "\n"
          ],
          "name": "stdout"
        }
      ]
    },
    {
      "cell_type": "code",
      "metadata": {
        "id": "zJQ5BvJthxYy",
        "colab_type": "code",
        "outputId": "49bb3f5a-9299-4139-eb72-f7725781890f",
        "colab": {
          "base_uri": "https://localhost:8080/",
          "height": 34
        }
      },
      "source": [
        "with open('test-docs-after-preprocessing.txt', 'w') as f_test:\n",
        "    for item in test_docs:\n",
        "        f_test.write(\"%s\\n\" % item)\n",
        "print(\"print to file successly\")"
      ],
      "execution_count": 15,
      "outputs": [
        {
          "output_type": "stream",
          "text": [
            "print to file successly\n"
          ],
          "name": "stdout"
        }
      ]
    },
    {
      "cell_type": "code",
      "metadata": {
        "id": "KnSs7pOieleN",
        "colab_type": "code",
        "colab": {
          "base_uri": "https://localhost:8080/",
          "height": 34
        },
        "outputId": "8cd966de-fa17-4c65-d3d0-c4b15dfc2b13"
      },
      "source": [
        "with open('test-label-after-preprocessing.txt', 'w') as f_test_label:\n",
        "    for item in y_test:\n",
        "        f_test_label.write(\"%s\\n\" % item)\n",
        "print(\"print to file successly\")"
      ],
      "execution_count": 16,
      "outputs": [
        {
          "output_type": "stream",
          "text": [
            "print to file successly\n"
          ],
          "name": "stdout"
        }
      ]
    },
    {
      "cell_type": "code",
      "metadata": {
        "id": "zGaNFBDkjKAn",
        "colab_type": "code",
        "colab": {
          "base_uri": "https://localhost:8080/",
          "height": 85
        },
        "outputId": "5865d671-16c0-42f4-ae2b-fd1316885898"
      },
      "source": [
        "train_file = open(\"./train-docs-after-preprocessing.txt\", \"r\")\n",
        "train_docs = train_file.readlines()\n",
        "print(f\"Train-docs length: {len(train_docs)}\");\n",
        "\n",
        "test_file = open(\"./test-docs-after-preprocessing.txt\", \"r\")\n",
        "test_docs = test_file.readlines()\n",
        "print(f\"Test-docs length: {len(test_docs)}\");\n",
        "\n",
        "train_label = open(\"./train-label-after-preprocessing.txt\", \"r\")\n",
        "y_train = train_label.readlines()\n",
        "print(f\"Train-label length: {len(y_train)}\");\n",
        "\n",
        "test_label = open(\"./test-label-after-preprocessing.txt\", \"r\")\n",
        "y_test = test_label.readlines()\n",
        "print(f\"Test-label length: {len(y_test)}\");"
      ],
      "execution_count": 9,
      "outputs": [
        {
          "output_type": "stream",
          "text": [
            "Train-docs length: 25000\n",
            "Test-docs length: 25000\n",
            "Train-label length: 25000\n",
            "Test-label length: 25000\n"
          ],
          "name": "stdout"
        }
      ]
    },
    {
      "cell_type": "code",
      "metadata": {
        "id": "lj_LdnkbC2u9",
        "colab_type": "code",
        "colab": {
          "base_uri": "https://localhost:8080/",
          "height": 85
        },
        "outputId": "ca27b7d8-27b9-4a7a-c947-baca4280565b"
      },
      "source": [
        "print(\"Begin vectorize \\n\")\n",
        "from sklearn.feature_extraction.text import TfidfVectorizer\n",
        "\n",
        "# Vectorize\n",
        "# IF-IDF\n",
        "print(\"Begin tf-idf\")\n",
        "train_tfidf = TfidfVectorizer(max_features=5000, min_df=10, max_df=0.7, encoding='utf-8', lowercase=False)\n",
        "X_train = train_tfidf.fit_transform(train_docs).toarray()\n",
        "\n",
        "print(f\"Voca len: {len(train_tfidf.vocabulary_)}\")"
      ],
      "execution_count": 10,
      "outputs": [
        {
          "output_type": "stream",
          "text": [
            "Begin vectorize \n",
            "\n",
            "Begin tf-idf\n",
            "Voca len: 5000\n"
          ],
          "name": "stdout"
        }
      ]
    },
    {
      "cell_type": "code",
      "metadata": {
        "id": "vJxvl98rDCS_",
        "colab_type": "code",
        "colab": {
          "base_uri": "https://localhost:8080/",
          "height": 85
        },
        "outputId": "570d8098-6222-4069-cafb-e13f5dd67d26"
      },
      "source": [
        "print(\"Begin test tf-idf\")\n",
        "test_tf_idf = TfidfVectorizer(min_df=5, max_df=0.7, encoding='utf-8', lowercase=False, vocabulary=train_tfidf.vocabulary_)\n",
        "X_test = test_tf_idf.fit_transform(test_docs).toarray()\n",
        "print(\"End tf-idf\")\n",
        "\n",
        "print(\"End vectorize \\n\")"
      ],
      "execution_count": 11,
      "outputs": [
        {
          "output_type": "stream",
          "text": [
            "Begin test tf-idf\n",
            "End tf-idf\n",
            "End vectorize \n",
            "\n"
          ],
          "name": "stdout"
        }
      ]
    },
    {
      "cell_type": "code",
      "metadata": {
        "id": "ZhK6OR4aDR76",
        "colab_type": "code",
        "outputId": "33b78fef-a78d-432a-c2dd-1fa42db4bdf7",
        "colab": {
          "base_uri": "https://localhost:8080/",
          "height": 272
        }
      },
      "source": [
        "# Training data - testing data\n",
        "    # Traning with Decision Tree\n",
        "from sklearn.metrics import classification_report as metric\n",
        "from sklearn import tree\n",
        "\n",
        "print(\"Begin training data with decision tree\")\n",
        "\n",
        "clf = tree.DecisionTreeClassifier()\n",
        "clf = clf.fit(X_train, y_train)\n",
        "\n",
        "print(\"End training data with decision tree\")\n",
        "\n",
        "    # Testing with decision tree\n",
        "print(\"Begin testing data with decision tree\")\n",
        "\n",
        "dstree_pred = clf.predict(X_test)\n",
        "\n",
        "result = metric(y_test, dstree_pred)\n",
        "\n",
        "print(f\"{result}\")\n",
        "\n",
        "print(\"End testing data with decision tree\")"
      ],
      "execution_count": 14,
      "outputs": [
        {
          "output_type": "stream",
          "text": [
            "Begin training data with decision tree\n",
            "End training data with decision tree\n",
            "Begin testing data with decision tree\n",
            "              precision    recall  f1-score   support\n",
            "\n",
            "          0\n",
            "       0.71      0.72      0.71     12500\n",
            "          1\n",
            "       0.71      0.70      0.71     12500\n",
            "\n",
            "    accuracy                           0.71     25000\n",
            "   macro avg       0.71      0.71      0.71     25000\n",
            "weighted avg       0.71      0.71      0.71     25000\n",
            "\n",
            "End testing data with decision tree\n"
          ],
          "name": "stdout"
        }
      ]
    },
    {
      "cell_type": "code",
      "metadata": {
        "id": "dg4bLDS8DlkY",
        "colab_type": "code",
        "outputId": "4e411e5d-943d-4ac1-97c3-754f35b74916",
        "colab": {
          "base_uri": "https://localhost:8080/",
          "height": 272
        }
      },
      "source": [
        "# Traning with Random Forest\n",
        "from sklearn.ensemble import RandomForestClassifier\n",
        "\n",
        "print(\"Begin training with Random Forest\")\n",
        "\n",
        "clf = RandomForestClassifier(n_estimators=1000, random_state=0)\n",
        "clf.fit(X_train, y_train) \n",
        "\n",
        "print(\"End training with Random Forest\")\n",
        "\n",
        "    # Tesing with Random Forest\n",
        "print(\"Begin testing with Random Forest\")\n",
        "\n",
        "rd_pred = clf.predict(X_test)\n",
        "\n",
        "result = metric(y_test, rd_pred)\n",
        "\n",
        "print(f\"Result: {result}\")\n",
        "\n",
        "print(\"End testing with Random Forest\")"
      ],
      "execution_count": 15,
      "outputs": [
        {
          "output_type": "stream",
          "text": [
            "Begin training with Random Forest\n",
            "End training with Random Forest\n",
            "Begin testing with Random Forest\n",
            "Result:               precision    recall  f1-score   support\n",
            "\n",
            "          0\n",
            "       0.85      0.86      0.86     12500\n",
            "          1\n",
            "       0.86      0.84      0.85     12500\n",
            "\n",
            "    accuracy                           0.85     25000\n",
            "   macro avg       0.85      0.85      0.85     25000\n",
            "weighted avg       0.85      0.85      0.85     25000\n",
            "\n",
            "End testing with Random Forest\n"
          ],
          "name": "stdout"
        }
      ]
    },
    {
      "cell_type": "code",
      "metadata": {
        "id": "GlbLiNWjDxtT",
        "colab_type": "code",
        "outputId": "08b45a95-322e-4147-9af7-6bc11adfc1e6",
        "colab": {
          "base_uri": "https://localhost:8080/",
          "height": 299
        }
      },
      "source": [
        "# Traning with SVM\n",
        "from sklearn.svm import SVC\n",
        "from datetime import datetime\n",
        "\n",
        "print(\"Begin training with SVM\")\n",
        "start_time = datetime.now()\n",
        "\n",
        "clf = SVC()\n",
        "clf.fit(X_train, y_train)\n",
        "\n",
        "end_time = datetime.now()\n",
        "\n",
        "print(f\"Time to training: {end_time - start_time}\")\n",
        "\n",
        "print(\"End training with SVM\")\n",
        "\n",
        "    # Tesing with SVM\n",
        "print(\"Begin testing with SVM\")\n",
        "\n",
        "end_time = datetime.now()\n",
        "\n",
        "svm_pred = clf.predict(X_test)\n",
        "\n",
        "result = metric(y_test, svm_pred)\n",
        "\n",
        "end_time = datetime.now()\n",
        "print(f\"Time to testing: {end_time - start_time}\")\n",
        "print(f\"{result}\")\n",
        "\n",
        "print(\"End testing with SVM\")"
      ],
      "execution_count": 12,
      "outputs": [
        {
          "output_type": "stream",
          "text": [
            "Begin training with SVM\n",
            "Time to training: 2:08:38.538788\n",
            "End training with SVM\n",
            "Begin testing with SVM\n"
          ],
          "name": "stdout"
        },
        {
          "output_type": "error",
          "ename": "NameError",
          "evalue": "ignored",
          "traceback": [
            "\u001b[0;31m---------------------------------------------------------------------------\u001b[0m",
            "\u001b[0;31mNameError\u001b[0m                                 Traceback (most recent call last)",
            "\u001b[0;32m<ipython-input-12-4f9eac459880>\u001b[0m in \u001b[0;36m<module>\u001b[0;34m()\u001b[0m\n\u001b[1;32m     21\u001b[0m \u001b[0msvm_pred\u001b[0m \u001b[0;34m=\u001b[0m \u001b[0mclf\u001b[0m\u001b[0;34m.\u001b[0m\u001b[0mpredict\u001b[0m\u001b[0;34m(\u001b[0m\u001b[0mX_test\u001b[0m\u001b[0;34m)\u001b[0m\u001b[0;34m\u001b[0m\u001b[0;34m\u001b[0m\u001b[0m\n\u001b[1;32m     22\u001b[0m \u001b[0;34m\u001b[0m\u001b[0m\n\u001b[0;32m---> 23\u001b[0;31m \u001b[0mresult\u001b[0m \u001b[0;34m=\u001b[0m \u001b[0mmetric\u001b[0m\u001b[0;34m(\u001b[0m\u001b[0my_test\u001b[0m\u001b[0;34m,\u001b[0m \u001b[0msvm_pred\u001b[0m\u001b[0;34m)\u001b[0m\u001b[0;34m\u001b[0m\u001b[0;34m\u001b[0m\u001b[0m\n\u001b[0m\u001b[1;32m     24\u001b[0m \u001b[0;34m\u001b[0m\u001b[0m\n\u001b[1;32m     25\u001b[0m \u001b[0mend_time\u001b[0m \u001b[0;34m=\u001b[0m \u001b[0mdatetime\u001b[0m\u001b[0;34m.\u001b[0m\u001b[0mnow\u001b[0m\u001b[0;34m(\u001b[0m\u001b[0;34m)\u001b[0m\u001b[0;34m\u001b[0m\u001b[0;34m\u001b[0m\u001b[0m\n",
            "\u001b[0;31mNameError\u001b[0m: name 'metric' is not defined"
          ]
        }
      ]
    },
    {
      "cell_type": "code",
      "metadata": {
        "id": "B0V7LbnCPtEL",
        "colab_type": "code",
        "colab": {
          "base_uri": "https://localhost:8080/",
          "height": 238
        },
        "outputId": "762c3e88-4a60-4576-ae8b-2e10111a51c7"
      },
      "source": [
        "from sklearn.metrics import classification_report as metric\n",
        "\n",
        "result = metric(y_test, svm_pred)\n",
        "\n",
        "end_time = datetime.now()\n",
        "print(f\"Time to testing: {end_time - start_time}\")\n",
        "print(f\"{result}\")\n",
        "\n",
        "print(\"End testing with SVM\")"
      ],
      "execution_count": 13,
      "outputs": [
        {
          "output_type": "stream",
          "text": [
            "Time to testing: 2:57:49.624487\n",
            "              precision    recall  f1-score   support\n",
            "\n",
            "          0\n",
            "       0.88      0.88      0.88     12500\n",
            "          1\n",
            "       0.88      0.88      0.88     12500\n",
            "\n",
            "    accuracy                           0.88     25000\n",
            "   macro avg       0.88      0.88      0.88     25000\n",
            "weighted avg       0.88      0.88      0.88     25000\n",
            "\n",
            "End testing with SVM\n"
          ],
          "name": "stdout"
        }
      ]
    },
    {
      "cell_type": "code",
      "metadata": {
        "id": "po6Ne78ND6yE",
        "colab_type": "code",
        "outputId": "f1a49d03-e4fe-409f-a440-f5ec83541d1e",
        "colab": {
          "base_uri": "https://localhost:8080/",
          "height": 272
        }
      },
      "source": [
        " # Traning with Rocchio Classification\n",
        "from sklearn.neighbors import NearestCentroid\n",
        "\n",
        "print(\"Begin training with Rocchio Classification\")\n",
        "\n",
        "clf = NearestCentroid()\n",
        "clf.fit(X_train, y_train)\n",
        "\n",
        "print(\"End training with Rocchio Classification\")\n",
        "\n",
        "    # Tesing with Rocchio Classification\n",
        "print(\"Begin testing with Rocchio Classification\")\n",
        "\n",
        "rc_pred = clf.predict(X_test)\n",
        "\n",
        "result = metric(y_test, rc_pred)\n",
        "\n",
        "print(f\"{result}\")\n",
        "\n",
        "print(\"End testing with Rocchio Classification\")"
      ],
      "execution_count": 16,
      "outputs": [
        {
          "output_type": "stream",
          "text": [
            "Begin training with Rocchio Classification\n",
            "End training with Rocchio Classification\n",
            "Begin testing with Rocchio Classification\n",
            "              precision    recall  f1-score   support\n",
            "\n",
            "          0\n",
            "       0.83      0.77      0.80     12500\n",
            "          1\n",
            "       0.79      0.85      0.82     12500\n",
            "\n",
            "    accuracy                           0.81     25000\n",
            "   macro avg       0.81      0.81      0.81     25000\n",
            "weighted avg       0.81      0.81      0.81     25000\n",
            "\n",
            "End testing with Rocchio Classification\n"
          ],
          "name": "stdout"
        }
      ]
    },
    {
      "cell_type": "code",
      "metadata": {
        "id": "L28QBax0D_eQ",
        "colab_type": "code",
        "colab": {
          "base_uri": "https://localhost:8080/",
          "height": 289
        },
        "outputId": "3d4a643e-f2aa-484a-feb2-85579c531372"
      },
      "source": [
        "# Traning with Naive Bayes Classifier\n",
        "from sklearn.naive_bayes import GaussianNB\n",
        "\n",
        "print(\"Begin training with Naive Bayes Classifier, use Gaussian Naive Bayes algorithm\")\n",
        "\n",
        "clf = GaussianNB()\n",
        "clf.fit(X_train, y_train)\n",
        "\n",
        "print(\"End training with Naive Bayes Classifier\")\n",
        "\n",
        "    # Tesing with Naive Bayes Classifier\n",
        "print(\"Begin testing with Naive Bayes Classifier\")\n",
        "\n",
        "nb_pred = clf.predict(X_test)\n",
        "\n",
        "result = metric(y_test, nb_pred)\n",
        "\n",
        "print(f\"{result}\")\n",
        "\n",
        "print(\"End testing with Naive Bayes Classifier\")\n",
        "\n",
        "print(\"End programe\")"
      ],
      "execution_count": 17,
      "outputs": [
        {
          "output_type": "stream",
          "text": [
            "Begin training with Naive Bayes Classifier, use Gaussian Naive Bayes algorithm\n",
            "End training with Naive Bayes Classifier\n",
            "Begin testing with Naive Bayes Classifier\n",
            "              precision    recall  f1-score   support\n",
            "\n",
            "          0\n",
            "       0.70      0.82      0.75     12500\n",
            "          1\n",
            "       0.78      0.65      0.71     12500\n",
            "\n",
            "    accuracy                           0.73     25000\n",
            "   macro avg       0.74      0.73      0.73     25000\n",
            "weighted avg       0.74      0.73      0.73     25000\n",
            "\n",
            "End testing with Naive Bayes Classifier\n",
            "End programe\n"
          ],
          "name": "stdout"
        }
      ]
    }
  ]
}